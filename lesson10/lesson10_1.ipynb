{
 "cells": [
  {
   "cell_type": "code",
   "execution_count": 7,
   "id": "f0c5e4fc",
   "metadata": {},
   "outputs": [
    {
     "ename": "ModuleNotFoundError",
     "evalue": "No module named 'psycopg2'",
     "output_type": "error",
     "traceback": [
      "\u001b[0;31m---------------------------------------------------------------------------\u001b[0m",
      "\u001b[0;31mModuleNotFoundError\u001b[0m                       Traceback (most recent call last)",
      "Cell \u001b[0;32mIn[7], line 1\u001b[0m\n\u001b[0;32m----> 1\u001b[0m \u001b[38;5;28;01mimport\u001b[39;00m\u001b[38;5;250m \u001b[39m\u001b[38;5;21;01mpsycopg2\u001b[39;00m\n\u001b[1;32m      3\u001b[0m \u001b[38;5;28;01mdef\u001b[39;00m\u001b[38;5;250m \u001b[39m\u001b[38;5;21mexecute_query\u001b[39m(connection, query):\n\u001b[1;32m      4\u001b[0m     cursor \u001b[38;5;241m=\u001b[39m connection\u001b[38;5;241m.\u001b[39mcursor()\n",
      "\u001b[0;31mModuleNotFoundError\u001b[0m: No module named 'psycopg2'"
     ]
    }
   ],
   "source": [
    "import psycopg2\n",
    "\n",
    "def execute_query(connection, query):\n",
    "    cursor = connection.cursor()\n",
    "    cursor.execute(query)\n",
    "    result = cursor.fetchall()\n",
    "    cursor.close()\n",
    "    return result\n",
    "\n",
    "def create_connection():\n",
    "    conn = psycopg2.connect(\n",
    "        host=\"dpg-d2bvnomr433s73a6tlp0-a.singapore-postgres.render.com\",\n",
    "        database=\"eva_postgres\",\n",
    "        user=\"eva_postgres_user\",\n",
    "        password=\"2w1Q6oEERok6UjOMie95cCgsGgeTLPhk\",\n",
    "        port=\"5432\"\n",
    "    )\n",
    "    return conn\n",
    "\n",
    "\n",
    "def main():\n",
    "    conn = create_connection()\n",
    "    if conn:\n",
    "        print(\"成功連接到資料庫！\")\n",
    "        query = \"\"\"\n",
    "        SELECT count(*) AS \"筆數\"\n",
    "        FROM \"台鐵車站資訊\";\n",
    "        \"\"\"\n",
    "        result = execute_query(conn, query)\n",
    "        print(\"台鐵車站資訊：\", result)\n",
    "        conn.close()\n",
    "    else:\n",
    "        print(\"無法連接到資料庫，請檢查設定。\")\n",
    "        return\n",
    "\n",
    "if __name__ == \"__main__\":\n",
    "    main()"
   ]
  }
 ],
 "metadata": {
  "kernelspec": {
   "display_name": "pydev",
   "language": "python",
   "name": "python3"
  },
  "language_info": {
   "codemirror_mode": {
    "name": "ipython",
    "version": 3
   },
   "file_extension": ".py",
   "mimetype": "text/x-python",
   "name": "python",
   "nbconvert_exporter": "python",
   "pygments_lexer": "ipython3",
   "version": "3.10.18"
  }
 },
 "nbformat": 4,
 "nbformat_minor": 5
}

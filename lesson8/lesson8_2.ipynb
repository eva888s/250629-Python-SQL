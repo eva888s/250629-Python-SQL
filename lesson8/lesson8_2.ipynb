{
 "cells": [
  {
   "cell_type": "code",
   "execution_count": 11,
   "id": "857fa63f",
   "metadata": {},
   "outputs": [
    {
     "name": "stdout",
     "output_type": "stream",
     "text": [
      "<class 'list'>\n",
      "[1, 2, 3, 4, 5, 6]\n"
     ]
    }
   ],
   "source": [
    "#請建立一個範本list\n",
    "my_list = [1, 2, 3, 4, 5]\n",
    "print(type(my_list))\n",
    "my_list.append(6)\n",
    "print(my_list)"
   ]
  },
  {
   "cell_type": "code",
   "execution_count": 12,
   "id": "62cf4bf9",
   "metadata": {},
   "outputs": [
    {
     "name": "stdout",
     "output_type": "stream",
     "text": [
      "[1, 2, 3, 4, 5, 6]\n",
      "[1, 3, 4, 5, 6]\n",
      "[1, 10, 3, 4, 5, 6]\n",
      "[1, 3, 4, 5, 6, 10]\n",
      "[10, 6, 5, 4, 3, 1]\n",
      "[]\n"
     ]
    }
   ],
   "source": [
    "#請建立一個範本list\n",
    "my_list = [1, 2, 3, 4, 5]\n",
    "#並且建立常用的實體方法\n",
    "my_list.append(6)\n",
    "print(my_list)\n",
    "my_list.remove(2)\n",
    "print(my_list)\n",
    "my_list.insert(1, 10)\n",
    "print(my_list)\n",
    "my_list.sort()\n",
    "print(my_list)\n",
    "my_list.reverse()\n",
    "print(my_list)\n",
    "my_list.clear()\n",
    "print(my_list)"
   ]
  }
 ],
 "metadata": {
  "language_info": {
   "name": "python"
  }
 },
 "nbformat": 4,
 "nbformat_minor": 5
}

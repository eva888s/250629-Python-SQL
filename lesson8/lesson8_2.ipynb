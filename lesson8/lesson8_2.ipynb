{
 "cells": [
  {
   "cell_type": "code",
   "execution_count": 11,
   "id": "857fa63f",
   "metadata": {},
   "outputs": [
    {
     "name": "stdout",
     "output_type": "stream",
     "text": [
      "<class 'list'>\n",
      "[1, 2, 3, 4, 5, 6]\n"
     ]
    }
   ],
   "source": [
    "#請建立一個範本list\n",
    "my_list = [1, 2, 3, 4, 5]\n",
    "print(type(my_list))\n",
    "my_list.append(6)\n",
    "print(my_list)"
   ]
  },
  {
   "cell_type": "code",
   "execution_count": null,
   "id": "b67fab85",
   "metadata": {},
   "outputs": [],
   "source": []
  },
  {
   "cell_type": "code",
   "execution_count": null,
   "id": "38b50f1d",
   "metadata": {},
   "outputs": [],
   "source": []
  },
  {
   "cell_type": "code",
   "execution_count": 13,
   "id": "62cf4bf9",
   "metadata": {},
   "outputs": [
    {
     "name": "stdout",
     "output_type": "stream",
     "text": [
      "[1, 2, 3, 4, 5, 6]\n",
      "[1, 3, 4, 5, 6]\n",
      "[1, 10, 3, 4, 5, 6]\n",
      "[1, 3, 4, 5, 6, 10]\n",
      "[10, 6, 5, 4, 3, 1]\n",
      "[]\n"
     ]
    }
   ],
   "source": [
    "#請建立一個範本list\n",
    "my_list = [1, 2, 3, 4, 5]\n",
    "#並且建立常用的實體方法\n",
    "my_list.append(6)\n",
    "print(my_list)\n",
    "my_list.remove(2)\n",
    "print(my_list)\n",
    "my_list.insert(1, 10)\n",
    "print(my_list)\n",
    "my_list.sort()\n",
    "print(my_list)\n",
    "my_list.reverse()\n",
    "print(my_list)\n",
    "my_list.clear()\n",
    "print(my_list)"
   ]
  },
  {
   "cell_type": "code",
   "execution_count": 25,
   "id": "af24f122",
   "metadata": {},
   "outputs": [
    {
     "name": "stdout",
     "output_type": "stream",
     "text": [
      "2\n",
      "4\n",
      "6\n",
      "8\n",
      "10\n",
      "A\n",
      "p\n",
      "p\n",
      "l\n",
      "e\n"
     ]
    }
   ],
   "source": [
    "#我有一個list,要使用for迴圈,請將list中的每個元素乘以2\n",
    "my_list = [1, 2, 3, 4, 5]\n",
    "for i in my_list:\n",
    "    print(i * 2)\n",
    "\n",
    "for word in \"Apple\":\n",
    "    print(word)\n"
   ]
  },
  {
   "cell_type": "code",
   "execution_count": 28,
   "id": "7dbc6dc0",
   "metadata": {},
   "outputs": [
    {
     "name": "stdout",
     "output_type": "stream",
     "text": [
      "TW Taiwan\n",
      "US United States\n",
      "JP Japan\n",
      "CN China\n",
      "KR South Korea\n"
     ]
    }
   ],
   "source": [
    "#請建立國家code與國家名稱的字典\n",
    "country_dict = {\n",
    "    \"TW\": \"Taiwan\",\n",
    "    \"US\": \"United States\",\n",
    "    \"JP\": \"Japan\",\n",
    "    \"CN\": \"China\",\n",
    "    \"KR\": \"South Korea\"\n",
    "}\n",
    "\n",
    "for code in country_dict.keys():\n",
    "    print(code, country_dict[code])"
   ]
  },
  {
   "cell_type": "code",
   "execution_count": 29,
   "id": "6c8aa73f",
   "metadata": {},
   "outputs": [
    {
     "name": "stdout",
     "output_type": "stream",
     "text": [
      "Taiwan\n",
      "United States\n",
      "Japan\n",
      "China\n",
      "South Korea\n"
     ]
    }
   ],
   "source": [
    "for country in country_dict.values():\n",
    "    print(country)"
   ]
  },
  {
   "cell_type": "code",
   "execution_count": 30,
   "id": "a030b84f",
   "metadata": {},
   "outputs": [
    {
     "name": "stdout",
     "output_type": "stream",
     "text": [
      "('TW', 'Taiwan')\n",
      "('US', 'United States')\n",
      "('JP', 'Japan')\n",
      "('CN', 'China')\n",
      "('KR', 'South Korea')\n"
     ]
    }
   ],
   "source": [
    "for item in country_dict.items():\n",
    "    print(item)"
   ]
  },
  {
   "cell_type": "code",
   "execution_count": 31,
   "id": "710038de",
   "metadata": {},
   "outputs": [
    {
     "name": "stdout",
     "output_type": "stream",
     "text": [
      "TW Taiwan\n",
      "US United States\n",
      "JP Japan\n",
      "CN China\n",
      "KR South Korea\n"
     ]
    }
   ],
   "source": [
    "for key, value in country_dict.items():\n",
    "    print(key, value)"
   ]
  }
 ],
 "metadata": {
  "language_info": {
   "name": "python"
  }
 },
 "nbformat": 4,
 "nbformat_minor": 5
}

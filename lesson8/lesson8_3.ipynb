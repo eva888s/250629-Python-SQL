{
 "cells": [
  {
   "cell_type": "code",
   "execution_count": 1,
   "id": "33018c84",
   "metadata": {},
   "outputs": [
    {
     "name": "stdout",
     "output_type": "stream",
     "text": [
      "Hello, World!\n"
     ]
    }
   ],
   "source": [
    "#定義一個函式\n",
    "def sayHello():\n",
    "    print(\"Hello, World!\")\n",
    "\n",
    "sayHello()"
   ]
  },
  {
   "cell_type": "code",
   "execution_count": 2,
   "id": "15358993",
   "metadata": {},
   "outputs": [
    {
     "name": "stdout",
     "output_type": "stream",
     "text": [
      "Hello! Robert\n"
     ]
    }
   ],
   "source": [
    "#定義一個函式,有一參數\n",
    "def say_hello(name):\n",
    "    print(\"Hello!\", name)\n",
    "\n",
    "\n",
    "say_hello(\"Robert\")"
   ]
  },
  {
   "cell_type": "code",
   "execution_count": 4,
   "id": "7a6901e3",
   "metadata": {},
   "outputs": [
    {
     "name": "stdout",
     "output_type": "stream",
     "text": [
      "Hello, Alice!\n"
     ]
    }
   ],
   "source": [
    "#寫一個函式，輸入名字，輸出 Hello, 名字\n",
    "def greet(name):\n",
    "    print(f\"Hello, {name}!\")\n",
    "\n",
    "greet(\"Alice\")"
   ]
  },
  {
   "cell_type": "code",
   "execution_count": 9,
   "id": "09b14a27",
   "metadata": {},
   "outputs": [
    {
     "data": {
      "text/plain": [
       "'Alice 您好'"
      ]
     },
     "execution_count": 9,
     "metadata": {},
     "output_type": "execute_result"
    }
   ],
   "source": [
    "#srt concatnate(連結)\n",
    "\"Alice\" + \" 您好\"\n",
    "\n"
   ]
  },
  {
   "cell_type": "code",
   "execution_count": 10,
   "id": "0814bf29",
   "metadata": {},
   "outputs": [
    {
     "data": {
      "text/plain": [
       "'========================================'"
      ]
     },
     "execution_count": 10,
     "metadata": {},
     "output_type": "execute_result"
    }
   ],
   "source": [
    "\"=\" * 40"
   ]
  },
  {
   "cell_type": "code",
   "execution_count": 11,
   "id": "354f3fb2",
   "metadata": {},
   "outputs": [
    {
     "name": "stdout",
     "output_type": "stream",
     "text": [
      "蘋果: 5\n"
     ]
    },
    {
     "data": {
      "text/plain": [
       "'蘋果:5'"
      ]
     },
     "execution_count": 11,
     "metadata": {},
     "output_type": "execute_result"
    }
   ],
   "source": [
    "apple = 5\n",
    "\n",
    "print(\"蘋果:\", apple)\n",
    "f\"蘋果:{apple}\""
   ]
  },
  {
   "cell_type": "code",
   "execution_count": 14,
   "id": "8478acbb",
   "metadata": {},
   "outputs": [
    {
     "data": {
      "text/plain": [
       "55"
      ]
     },
     "execution_count": 14,
     "metadata": {},
     "output_type": "execute_result"
    }
   ],
   "source": [
    "#建立一個函式,傳入一個數字串列，回傳總和\n",
    "def sum_numbers(numbers):\n",
    "    total = 0\n",
    "    for number in numbers:\n",
    "        total += number\n",
    "    return total\n",
    "\n",
    "sum_numbers([1, 2, 3, 4, 5, 6, 7, 8, 9, 10])"
   ]
  },
  {
   "cell_type": "code",
   "execution_count": 15,
   "id": "184ed790",
   "metadata": {},
   "outputs": [
    {
     "name": "stdout",
     "output_type": "stream",
     "text": [
      "15\n"
     ]
    }
   ],
   "source": [
    "n = 10\n",
    "n = n + 5\n",
    "print(n)\n"
   ]
  },
  {
   "cell_type": "code",
   "execution_count": 16,
   "id": "949392a6",
   "metadata": {},
   "outputs": [
    {
     "name": "stdout",
     "output_type": "stream",
     "text": [
      "50\n"
     ]
    }
   ],
   "source": [
    "#複合指定運算子\n",
    "n = 10\n",
    "n *= 5\n",
    "print(n)"
   ]
  },
  {
   "cell_type": "code",
   "execution_count": 17,
   "id": "dfc925a2",
   "metadata": {},
   "outputs": [
    {
     "name": "stdout",
     "output_type": "stream",
     "text": [
      "10\n"
     ]
    }
   ],
   "source": [
    "#複合指定運算子\n",
    "n = 10\n",
    "n + 5\n",
    "print(n)\n",
    "\n",
    "第二行 n 沒有寫=10,所以無法加總 +5"
   ]
  }
 ],
 "metadata": {
  "kernelspec": {
   "display_name": "pydev",
   "language": "python",
   "name": "python3"
  },
  "language_info": {
   "codemirror_mode": {
    "name": "ipython",
    "version": 3
   },
   "file_extension": ".py",
   "mimetype": "text/x-python",
   "name": "python",
   "nbconvert_exporter": "python",
   "pygments_lexer": "ipython3",
   "version": "3.10.18"
  }
 },
 "nbformat": 4,
 "nbformat_minor": 5
}
